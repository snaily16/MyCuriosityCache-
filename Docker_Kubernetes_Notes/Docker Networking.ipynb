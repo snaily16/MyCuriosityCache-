{
 "cells": [
  {
   "cell_type": "markdown",
   "id": "f4d1fe5a",
   "metadata": {},
   "source": [
    "# Docker Networking\n",
    "\n",
    "Docker containers and services are so powerful is that you can connect them together, or connect them to non-Docker workloads. Docker containers and services do not even need to be aware that they are deployed on Docker, or whether their peers are also Docker workloads or not. \n",
    "\n",
    "## Network drivers\n",
    "\n",
    "Docker’s networking subsystem is pluggable, using drivers. Several drivers exist by default, and provide core networking functionality:\n",
    "\n",
    "1. **bridge**: \n",
    "    - It is the default network driver\n",
    "    - Bridge networks are usually used when your applications run in standalone containers that need to communicate\n",
    "    - Are best when you need multiple containers to communicate on the same Docker host.\n",
    "\n",
    "2. **host**: Are best when the network stack should not be isolated from the Docker host, but you want other aspects of the container to be isolated\n",
    "\n",
    "3. **overlay**: Are best when you need containers running on different Docker hosts to communicate, or when multiple applications work together using swarm services.\n",
    "\n",
    "4. **Macvlan networks**: Are best when you are migrating from a VM setup or need your containers to look like physical hosts on your network, each with a unique MAC address.\n",
    "    \n",
    "5. **Third-party network plugins**: Allow you to integrate Docker with specialized network stacks."
   ]
  },
  {
   "cell_type": "markdown",
   "id": "a18e2a08",
   "metadata": {},
   "source": [
    "## Container Networking\n",
    "\n",
    "The type of network a container uses, whether it is a bridge, an overlay, a macvlan network, or a custom network plugin, is transparent from within the container. However from the container’s point of view, it has a network interface with an IP address, a gateway, a routing table, DNS services, and other networking details (assuming the container is not using the none network driver).\n",
    "\n",
    "### Published Ports\n",
    "\n",
    "To make a port available to services outside of Docker, or to Docker containers which are not connected to the container’s network, use the **--publish or -p** flag. \n",
    "This creates a firewall rule which maps a container port to a port on the Docker host to the outside world. Here are some examples.\n",
    "\n",
    "### IP address and hostname\n",
    "- By default, the container is assigned an IP address for every Docker network it connects to. \n",
    "- The IP address is assigned from the pool assigned to the network, so the Docker daemon effectively acts as a DHCP server for each container. \n",
    "- Each network also has a default subnet mask and gateway.\n",
    "- When the container starts, it can only be connected to a single network, using --network. However, you can connect a running container to multiple networks using ``` docker network connect```. \n",
    "- When you start a container using the --network flag, you can specify the IP address assigned to the container on that network using the --ip or --ip6 flags\n",
    "\n",
    "### DNS services\n",
    "\n",
    "By default, a container inherits the DNS settings of the host, as defined in the /etc/resolv.conf configuration file. Containers that use the default bridge network get a copy of this file, whereas containers that use a custom network use Docker’s embedded DNS server, which forwards external DNS lookups to the DNS servers configured on the host."
   ]
  },
  {
   "cell_type": "markdown",
   "id": "73a35ed8",
   "metadata": {},
   "source": []
  }
 ],
 "metadata": {
  "kernelspec": {
   "display_name": "Python 3 (ipykernel)",
   "language": "python",
   "name": "python3"
  },
  "language_info": {
   "codemirror_mode": {
    "name": "ipython",
    "version": 3
   },
   "file_extension": ".py",
   "mimetype": "text/x-python",
   "name": "python",
   "nbconvert_exporter": "python",
   "pygments_lexer": "ipython3",
   "version": "3.10.5"
  }
 },
 "nbformat": 4,
 "nbformat_minor": 5
}
