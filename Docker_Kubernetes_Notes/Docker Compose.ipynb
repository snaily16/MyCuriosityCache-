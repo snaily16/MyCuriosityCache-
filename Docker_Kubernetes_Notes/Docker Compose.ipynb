{
 "cells": [
  {
   "cell_type": "markdown",
   "id": "28a946fb",
   "metadata": {},
   "source": [
    "# Docker Compose"
   ]
  },
  {
   "cell_type": "markdown",
   "id": "684182b0",
   "metadata": {},
   "source": [
    "Compose is a tool for defining and running multi-container Docker applications. \n",
    "\n",
    "With Compose, we use a YAML file to configure your application’s services. Then, with a single command, we can create and start all the services from our configuration."
   ]
  },
  {
   "cell_type": "markdown",
   "id": "ae060da8",
   "metadata": {},
   "source": [
    "Compose works in all environments: production, staging, development, testing, as well as CI workflows. It also has commands for managing the whole lifecycle of your application:\n",
    "\n",
    "* Start, stop, and rebuild services\n",
    "* View the status of running services\n",
    "* Stream the log output of running services\n",
    "* Run a one-off command on a service\n",
    "\n",
    "The key features of Compose that make it effective are:\n",
    "\n",
    "* Have multiple isolated environments on a single host\n",
    "* Preserves volume data when containers are created\n",
    "* Only recreate containers that have changed\n",
    "* Supports variables and moving a composition between environments"
   ]
  },
  {
   "cell_type": "markdown",
   "id": "a0a99d34",
   "metadata": {},
   "source": [
    "## Key Features and Use Cases"
   ]
  },
  {
   "cell_type": "markdown",
   "id": "9171aa10",
   "metadata": {},
   "source": [
    "Using Compose is essentially a three-step process:\n",
    "\n",
    "1. Define your app’s environment with a Dockerfile so it can be reproduced anywhere.\n",
    "2. Define the services that make up your app in docker-compose.yml so they can be run together in an isolated environment.\n",
    "3. Run docker compose up and the Docker compose command starts and runs your entire app. You can alternatively run docker-compose up using Compose standalone(docker-compose binary)."
   ]
  },
  {
   "cell_type": "code",
   "execution_count": null,
   "id": "c9353618",
   "metadata": {},
   "outputs": [],
   "source": []
  }
 ],
 "metadata": {
  "kernelspec": {
   "display_name": "Python 3 (ipykernel)",
   "language": "python",
   "name": "python3"
  },
  "language_info": {
   "codemirror_mode": {
    "name": "ipython",
    "version": 3
   },
   "file_extension": ".py",
   "mimetype": "text/x-python",
   "name": "python",
   "nbconvert_exporter": "python",
   "pygments_lexer": "ipython3",
   "version": "3.10.5"
  }
 },
 "nbformat": 4,
 "nbformat_minor": 5
}
